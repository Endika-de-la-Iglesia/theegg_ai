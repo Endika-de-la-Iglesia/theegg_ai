{
 "cells": [
  {
   "cell_type": "markdown",
   "metadata": {
    "id": "R-1dIlQX0IAJ"
   },
   "source": [
    "# Normalización"
   ]
  },
  {
   "cell_type": "markdown",
   "metadata": {
    "id": "PH_u16ky6MbZ"
   },
   "source": [
    "La normalización es el proceso con el que los datos de un atributo numérico se transforman para que estén en un rango definido, es decir, que los datos estén en una escala similar."
   ]
  },
  {
   "cell_type": "markdown",
   "metadata": {
    "id": "fXcNJ7ew0O6G"
   },
   "source": [
    "## Lectura de datos"
   ]
  },
  {
   "cell_type": "markdown",
   "metadata": {
    "id": "iIufR5ag0fgT"
   },
   "source": [
    "En esta ocasión utilizaremos el conocido dataset de precios de casas en california. La variable objetivo es un valor continuo que hace referencia al precio de la vivienda, es decir, estamos ante un problema de regresión, aunque en esta ocasión nos centraremos en el preproceso, en las técnicas de normalización."
   ]
  },
  {
   "cell_type": "code",
   "execution_count": 1,
   "metadata": {
    "id": "OO6xnYZ7g9pm"
   },
   "outputs": [],
   "source": [
    "from sklearn.datasets import fetch_california_housing\n",
    "import pandas as pd\n",
    "import numpy as np\n",
    "import matplotlib.pyplot as plt"
   ]
  },
  {
   "cell_type": "markdown",
   "metadata": {
    "id": "VzGAis9v03Xk"
   },
   "source": [
    "Aquí podemos ver la estructura y unas filas del dataset que utilizaremos:"
   ]
  },
  {
   "cell_type": "code",
   "execution_count": 4,
   "metadata": {
    "colab": {
     "base_uri": "https://localhost:8080/",
     "height": 206
    },
    "executionInfo": {
     "elapsed": 414,
     "status": "ok",
     "timestamp": 1651519997706,
     "user": {
      "displayName": "Mikel Armendariz",
      "userId": "04878841620519662639"
     },
     "user_tz": -120
    },
    "id": "t-hZf1bIhqx5",
    "outputId": "2c1820a1-0791-498e-bf3e-15a95ba0ca60"
   },
   "outputs": [
    {
     "data": {
      "text/html": [
       "<div>\n",
       "<style scoped>\n",
       "    .dataframe tbody tr th:only-of-type {\n",
       "        vertical-align: middle;\n",
       "    }\n",
       "\n",
       "    .dataframe tbody tr th {\n",
       "        vertical-align: top;\n",
       "    }\n",
       "\n",
       "    .dataframe thead th {\n",
       "        text-align: right;\n",
       "    }\n",
       "</style>\n",
       "<table border=\"1\" class=\"dataframe\">\n",
       "  <thead>\n",
       "    <tr style=\"text-align: right;\">\n",
       "      <th></th>\n",
       "      <th>MedInc</th>\n",
       "      <th>HouseAge</th>\n",
       "      <th>AveRooms</th>\n",
       "      <th>AveBedrms</th>\n",
       "      <th>Population</th>\n",
       "      <th>AveOccup</th>\n",
       "      <th>Latitude</th>\n",
       "      <th>Longitude</th>\n",
       "      <th>MedHouseVal</th>\n",
       "    </tr>\n",
       "  </thead>\n",
       "  <tbody>\n",
       "    <tr>\n",
       "      <th>0</th>\n",
       "      <td>8.3252</td>\n",
       "      <td>41.0</td>\n",
       "      <td>6.984127</td>\n",
       "      <td>1.023810</td>\n",
       "      <td>322.0</td>\n",
       "      <td>2.555556</td>\n",
       "      <td>37.88</td>\n",
       "      <td>-122.23</td>\n",
       "      <td>4.526</td>\n",
       "    </tr>\n",
       "    <tr>\n",
       "      <th>1</th>\n",
       "      <td>8.3014</td>\n",
       "      <td>21.0</td>\n",
       "      <td>6.238137</td>\n",
       "      <td>0.971880</td>\n",
       "      <td>2401.0</td>\n",
       "      <td>2.109842</td>\n",
       "      <td>37.86</td>\n",
       "      <td>-122.22</td>\n",
       "      <td>3.585</td>\n",
       "    </tr>\n",
       "    <tr>\n",
       "      <th>2</th>\n",
       "      <td>7.2574</td>\n",
       "      <td>52.0</td>\n",
       "      <td>8.288136</td>\n",
       "      <td>1.073446</td>\n",
       "      <td>496.0</td>\n",
       "      <td>2.802260</td>\n",
       "      <td>37.85</td>\n",
       "      <td>-122.24</td>\n",
       "      <td>3.521</td>\n",
       "    </tr>\n",
       "    <tr>\n",
       "      <th>3</th>\n",
       "      <td>5.6431</td>\n",
       "      <td>52.0</td>\n",
       "      <td>5.817352</td>\n",
       "      <td>1.073059</td>\n",
       "      <td>558.0</td>\n",
       "      <td>2.547945</td>\n",
       "      <td>37.85</td>\n",
       "      <td>-122.25</td>\n",
       "      <td>3.413</td>\n",
       "    </tr>\n",
       "    <tr>\n",
       "      <th>4</th>\n",
       "      <td>3.8462</td>\n",
       "      <td>52.0</td>\n",
       "      <td>6.281853</td>\n",
       "      <td>1.081081</td>\n",
       "      <td>565.0</td>\n",
       "      <td>2.181467</td>\n",
       "      <td>37.85</td>\n",
       "      <td>-122.25</td>\n",
       "      <td>3.422</td>\n",
       "    </tr>\n",
       "  </tbody>\n",
       "</table>\n",
       "</div>"
      ],
      "text/plain": [
       "   MedInc  HouseAge  AveRooms  AveBedrms  Population  AveOccup  Latitude  \\\n",
       "0  8.3252      41.0  6.984127   1.023810       322.0  2.555556     37.88   \n",
       "1  8.3014      21.0  6.238137   0.971880      2401.0  2.109842     37.86   \n",
       "2  7.2574      52.0  8.288136   1.073446       496.0  2.802260     37.85   \n",
       "3  5.6431      52.0  5.817352   1.073059       558.0  2.547945     37.85   \n",
       "4  3.8462      52.0  6.281853   1.081081       565.0  2.181467     37.85   \n",
       "\n",
       "   Longitude  MedHouseVal  \n",
       "0    -122.23        4.526  \n",
       "1    -122.22        3.585  \n",
       "2    -122.24        3.521  \n",
       "3    -122.25        3.413  \n",
       "4    -122.25        3.422  "
      ]
     },
     "execution_count": 4,
     "metadata": {},
     "output_type": "execute_result"
    }
   ],
   "source": [
    "data = fetch_california_housing()\n",
    "data_df = pd.DataFrame(data.data, columns=data.feature_names)\n",
    "data_df['MedHouseVal'] = data.target\n",
    "data_df.head()"
   ]
  },
  {
   "cell_type": "markdown",
   "metadata": {
    "id": "XM6Jdql-0YGw"
   },
   "source": [
    "## Métodos de normalización"
   ]
  },
  {
   "cell_type": "markdown",
   "metadata": {
    "id": "Ag2oGJi31v9w"
   },
   "source": [
    "En esta ocasión se mostrarán ejemplos de los métodos de normalización más conocidos."
   ]
  },
  {
   "cell_type": "markdown",
   "metadata": {
    "id": "5_FvfZfWtpOk"
   },
   "source": [
    "### Escalar a un rango"
   ]
  },
  {
   "cell_type": "markdown",
   "metadata": {
    "id": "1a-zGeTQ18fX"
   },
   "source": [
    "Se basa en cambiar el rango de las variables de su rango original (por ejemplo, de 100 a 10.000) a un rango estándar, que en la mayoría de los casos sería de 0 a 1 o de -1 a 1, pero no hay ningún problema en utilizar otros rangos, como por ejemplo, de -5 a 5. Este tipo de normalización suele aportar valor cuando el conjunto de atributos está formado por más de un atributo."
   ]
  },
  {
   "cell_type": "markdown",
   "metadata": {
    "id": "3quJjK682Paa"
   },
   "source": [
    "En esta ocasión puede ser una buena idea escalar el rango de los atributos, ya que podemos ver que los valores del atributo HouseAge van desde 1 hasta 52, y puede ser conveniente reducir este rango."
   ]
  },
  {
   "cell_type": "code",
   "execution_count": 5,
   "metadata": {
    "colab": {
     "base_uri": "https://localhost:8080/",
     "height": 302
    },
    "executionInfo": {
     "elapsed": 613,
     "status": "ok",
     "timestamp": 1651519998317,
     "user": {
      "displayName": "Mikel Armendariz",
      "userId": "04878841620519662639"
     },
     "user_tz": -120
    },
    "id": "o-Gj7lWV53Xa",
    "outputId": "2e300640-f27d-4992-fcb3-f4c4bcf0d7c6"
   },
   "outputs": [
    {
     "name": "stdout",
     "output_type": "stream",
     "text": [
      "Min: 1.0\n",
      "Max: 52.0\n"
     ]
    },
    {
     "data": {
      "image/png": "[encoded data removed]",
      "text/plain": [
       "<Figure size 640x480 with 1 Axes>"
      ]
     },
     "metadata": {},
     "output_type": "display_data"
    }
   ],
   "source": [
    "print('Min:', data_df.HouseAge.min())\n",
    "print('Max:', data_df.HouseAge.max())\n",
    "\n",
    "hist = plt.hist(data_df.HouseAge, bins=50)"
   ]
  },
  {
   "cell_type": "markdown",
   "metadata": {
    "id": "gCy9goK83flP"
   },
   "source": [
    "Primero aplicaremos la fórmula manualmente para que podamos entender mejor este método de normalización. La fórmula sería la siguiente: \n",
    "\n",
    "![formula2.png](data:image/png;base64,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)"
   ]
  },
  {
   "cell_type": "code",
   "execution_count": 6,
   "metadata": {
    "id": "ltJHq5JfqzxA"
   },
   "outputs": [],
   "source": [
    "data_df['HouseAgeManually'] = (data_df.HouseAge-data_df.HouseAge.min())/(data_df.HouseAge.max()-data_df.HouseAge.min())"
   ]
  },
  {
   "cell_type": "markdown",
   "metadata": {
    "id": "Niqk1Fnt3ozj"
   },
   "source": [
    "Ahora utilizaremos el estimador MinMaxScaler de scikit-learn que hace exactamente lo mismo que hemos hecho manualmente."
   ]
  },
  {
   "cell_type": "code",
   "execution_count": 7,
   "metadata": {
    "id": "Cg3qjZhLrYfu"
   },
   "outputs": [],
   "source": [
    "from sklearn.preprocessing import MinMaxScaler\n",
    "\n",
    "scaler = MinMaxScaler()\n",
    "data_df['HouseAgeMinMaxScaler'] = scaler.fit_transform(data_df[['HouseAge']])"
   ]
  },
  {
   "cell_type": "markdown",
   "metadata": {
    "id": "K8aDo6tk4Cjf"
   },
   "source": [
    "Podemos observar que de las dos maneras hemos obtenido los mismos resultados, y también que los valores están en un rango de 0 a 1, que era lo que queríamos conseguir."
   ]
  },
  {
   "cell_type": "code",
   "execution_count": 8,
   "metadata": {
    "colab": {
     "base_uri": "https://localhost:8080/",
     "height": 206
    },
    "executionInfo": {
     "elapsed": 7,
     "status": "ok",
     "timestamp": 1651519998318,
     "user": {
      "displayName": "Mikel Armendariz",
      "userId": "04878841620519662639"
     },
     "user_tz": -120
    },
    "id": "B4aIvUg5tXSe",
    "outputId": "fe3f0f40-3b02-4df4-aa2d-7df344113d55"
   },
   "outputs": [
    {
     "data": {
      "text/html": [
       "<div>\n",
       "<style scoped>\n",
       "    .dataframe tbody tr th:only-of-type {\n",
       "        vertical-align: middle;\n",
       "    }\n",
       "\n",
       "    .dataframe tbody tr th {\n",
       "        vertical-align: top;\n",
       "    }\n",
       "\n",
       "    .dataframe thead th {\n",
       "        text-align: right;\n",
       "    }\n",
       "</style>\n",
       "<table border=\"1\" class=\"dataframe\">\n",
       "  <thead>\n",
       "    <tr style=\"text-align: right;\">\n",
       "      <th></th>\n",
       "      <th>HouseAge</th>\n",
       "      <th>HouseAgeManually</th>\n",
       "      <th>HouseAgeMinMaxScaler</th>\n",
       "    </tr>\n",
       "  </thead>\n",
       "  <tbody>\n",
       "    <tr>\n",
       "      <th>0</th>\n",
       "      <td>41.0</td>\n",
       "      <td>0.784314</td>\n",
       "      <td>0.784314</td>\n",
       "    </tr>\n",
       "    <tr>\n",
       "      <th>1</th>\n",
       "      <td>21.0</td>\n",
       "      <td>0.392157</td>\n",
       "      <td>0.392157</td>\n",
       "    </tr>\n",
       "    <tr>\n",
       "      <th>2</th>\n",
       "      <td>52.0</td>\n",
       "      <td>1.000000</td>\n",
       "      <td>1.000000</td>\n",
       "    </tr>\n",
       "    <tr>\n",
       "      <th>3</th>\n",
       "      <td>52.0</td>\n",
       "      <td>1.000000</td>\n",
       "      <td>1.000000</td>\n",
       "    </tr>\n",
       "    <tr>\n",
       "      <th>4</th>\n",
       "      <td>52.0</td>\n",
       "      <td>1.000000</td>\n",
       "      <td>1.000000</td>\n",
       "    </tr>\n",
       "  </tbody>\n",
       "</table>\n",
       "</div>"
      ],
      "text/plain": [
       "   HouseAge  HouseAgeManually  HouseAgeMinMaxScaler\n",
       "0      41.0          0.784314              0.784314\n",
       "1      21.0          0.392157              0.392157\n",
       "2      52.0          1.000000              1.000000\n",
       "3      52.0          1.000000              1.000000\n",
       "4      52.0          1.000000              1.000000"
      ]
     },
     "execution_count": 8,
     "metadata": {},
     "output_type": "execute_result"
    }
   ],
   "source": [
    "data_df[['HouseAge', 'HouseAgeManually', 'HouseAgeMinMaxScaler']].head()"
   ]
  },
  {
   "cell_type": "markdown",
   "metadata": {
    "id": "YSObbwok4Zpa"
   },
   "source": [
    "Eliminamos la columna que hemos obtenido manualmente porque tenemos dos columnas con exactamente los mismos valores."
   ]
  },
  {
   "cell_type": "code",
   "execution_count": null,
   "metadata": {
    "id": "CNzIi8UOuMyk"
   },
   "outputs": [],
   "source": [
    "data_df = data_df.drop(['HouseAgeManually'], axis=1)"
   ]
  },
  {
   "cell_type": "markdown",
   "metadata": {
    "id": "SwuuXiFd4jQ9"
   },
   "source": [
    "Podemos ver en el histograma que la distribución de los valores no cambia pero si el rango en el que se encuentran estos valores."
   ]
  },
  {
   "cell_type": "code",
   "execution_count": 9,
   "metadata": {
    "colab": {
     "base_uri": "https://localhost:8080/",
     "height": 264
    },
    "executionInfo": {
     "elapsed": 391,
     "status": "ok",
     "timestamp": 1651519998703,
     "user": {
      "displayName": "Mikel Armendariz",
      "userId": "04878841620519662639"
     },
     "user_tz": -120
    },
    "id": "tY-jZ8nNtlQZ",
    "outputId": "d9e1572c-c795-4710-f103-a2a2a94ad712"
   },
   "outputs": [
    {
     "data": {
      "image/png": "[encoded data removed]",
      "text/plain": [
       "<Figure size 640x480 with 1 Axes>"
      ]
     },
     "metadata": {},
     "output_type": "display_data"
    }
   ],
   "source": [
    "hist = plt.hist(data_df.HouseAgeMinMaxScaler, bins=50)"
   ]
  },
  {
   "cell_type": "markdown",
   "metadata": {
    "id": "Z_NokoZLt3t6"
   },
   "source": [
    "### Recorte de atributos"
   ]
  },
  {
   "cell_type": "markdown",
   "metadata": {
    "id": "ZynRkpkT-KS4"
   },
   "source": [
    "El recorte de atributos se utiliza cuando los datos contienen valores anómalos extremos, es conveniente acotarlos en un rango definido. Por ejemplo, si casi todos los valores se encuentran en un rango de -100 a 100 y tenemos unos pocos valores que van hasta los -10.000 o 10.000, es conveniente, que acotamos esos valores a -100 y 100, es decir, directamente convertir estos valores anómalos a los límites establecidos más cercanos. "
   ]
  },
  {
   "cell_type": "markdown",
   "metadata": {
    "id": "kFoTwEY7-S30"
   },
   "source": [
    "En esta ocasión, podemos ver que en la columna Population casi todas las observaciones se encuentran por debajo de 5.000, pero también tenemos valores de hasta 35.000. Por ello, en esta ocasión tiene sentido utilizar el recorte de atributos y convertir los valores anómalos en valores más comunes."
   ]
  },
  {
   "cell_type": "code",
   "execution_count": 14,
   "metadata": {
    "colab": {
     "base_uri": "https://localhost:8080/",
     "height": 264
    },
    "executionInfo": {
     "elapsed": 5,
     "status": "ok",
     "timestamp": 1651519998703,
     "user": {
      "displayName": "Mikel Armendariz",
      "userId": "04878841620519662639"
     },
     "user_tz": -120
    },
    "id": "mwCrQxCEoziS",
    "outputId": "73e2525a-74f4-4e94-9cb7-91ef0138ed3e"
   },
   "outputs": [
    {
     "name": "stdout",
     "output_type": "stream",
     "text": [
      "35682.0\n"
     ]
    },
    {
     "data": {
      "image/png": "[encoded data removed]",
      "text/plain": [
       "<Figure size 640x480 with 1 Axes>"
      ]
     },
     "metadata": {},
     "output_type": "display_data"
    }
   ],
   "source": [
    "print(data_df['Population'].max())\n",
    "hist = plt.hist(data_df.Population, bins=50)"
   ]
  },
  {
   "cell_type": "markdown",
   "metadata": {
    "id": "-wxeFWiZ-yoI"
   },
   "source": [
    "En esta ocasión estableceremos los límites con los valores -3σ y 3σ."
   ]
  },
  {
   "cell_type": "code",
   "execution_count": 15,
   "metadata": {
    "colab": {
     "base_uri": "https://localhost:8080/",
     "height": 224
    },
    "executionInfo": {
     "elapsed": 5,
     "status": "ok",
     "timestamp": 1651519998704,
     "user": {
      "displayName": "Mikel Armendariz",
      "userId": "04878841620519662639"
     },
     "user_tz": -120
    },
    "id": "z4f09MzNvkOW",
    "outputId": "f43b16bc-ce08-435e-ba70-468499192c8a"
   },
   "outputs": [
    {
     "name": "stdout",
     "output_type": "stream",
     "text": [
      "Max: 3397.3863652960226\n"
     ]
    },
    {
     "data": {
      "text/html": [
       "<div>\n",
       "<style scoped>\n",
       "    .dataframe tbody tr th:only-of-type {\n",
       "        vertical-align: middle;\n",
       "    }\n",
       "\n",
       "    .dataframe tbody tr th {\n",
       "        vertical-align: top;\n",
       "    }\n",
       "\n",
       "    .dataframe thead th {\n",
       "        text-align: right;\n",
       "    }\n",
       "</style>\n",
       "<table border=\"1\" class=\"dataframe\">\n",
       "  <thead>\n",
       "    <tr style=\"text-align: right;\">\n",
       "      <th></th>\n",
       "      <th>Population</th>\n",
       "      <th>PopulationFeatureClipping</th>\n",
       "    </tr>\n",
       "  </thead>\n",
       "  <tbody>\n",
       "    <tr>\n",
       "      <th>0</th>\n",
       "      <td>322.0</td>\n",
       "      <td>322.0</td>\n",
       "    </tr>\n",
       "    <tr>\n",
       "      <th>1</th>\n",
       "      <td>2401.0</td>\n",
       "      <td>2401.0</td>\n",
       "    </tr>\n",
       "    <tr>\n",
       "      <th>2</th>\n",
       "      <td>496.0</td>\n",
       "      <td>496.0</td>\n",
       "    </tr>\n",
       "    <tr>\n",
       "      <th>3</th>\n",
       "      <td>558.0</td>\n",
       "      <td>558.0</td>\n",
       "    </tr>\n",
       "    <tr>\n",
       "      <th>4</th>\n",
       "      <td>565.0</td>\n",
       "      <td>565.0</td>\n",
       "    </tr>\n",
       "  </tbody>\n",
       "</table>\n",
       "</div>"
      ],
      "text/plain": [
       "   Population  PopulationFeatureClipping\n",
       "0       322.0                      322.0\n",
       "1      2401.0                     2401.0\n",
       "2       496.0                      496.0\n",
       "3       558.0                      558.0\n",
       "4       565.0                      565.0"
      ]
     },
     "execution_count": 15,
     "metadata": {},
     "output_type": "execute_result"
    }
   ],
   "source": [
    "data_df['PopulationFeatureClipping'] = np.clip(data_df.Population, a_min=(-3*data_df.Population.std()), a_max=(3*data_df.Population.std()))\n",
    "print('Max:', data_df['PopulationFeatureClipping'].max())\n",
    "data_df[['Population', 'PopulationFeatureClipping']].head()"
   ]
  },
  {
   "cell_type": "markdown",
   "metadata": {
    "id": "We9h4Zcr_Y2S"
   },
   "source": [
    "Podemos observar que el rango ahora es mucho más acotado y ya no tenemos valores anómalos."
   ]
  },
  {
   "cell_type": "code",
   "execution_count": 12,
   "metadata": {
    "colab": {
     "base_uri": "https://localhost:8080/",
     "height": 264
    },
    "executionInfo": {
     "elapsed": 376,
     "status": "ok",
     "timestamp": 1651519999077,
     "user": {
      "displayName": "Mikel Armendariz",
      "userId": "04878841620519662639"
     },
     "user_tz": -120
    },
    "id": "D4up42vlvF5E",
    "outputId": "08333260-f538-4802-a6d8-aeaae865fe92"
   },
   "outputs": [
    {
     "data": {
      "image/png": "[encoded data removed]",
      "text/plain": [
       "<Figure size 640x480 with 1 Axes>"
      ]
     },
     "metadata": {},
     "output_type": "display_data"
    }
   ],
   "source": [
    "hist = plt.hist(data_df['PopulationFeatureClipping'], bins=50)"
   ]
  },
  {
   "cell_type": "markdown",
   "metadata": {
    "id": "_mnIksGQumle"
   },
   "source": [
    "### Escalado logarítmico"
   ]
  },
  {
   "cell_type": "markdown",
   "metadata": {
    "id": "MpHebmQN_lQ5"
   },
   "source": [
    "Calcula los logaritmos de los valores para reducir su rango. Es útil cuando muchas observaciones se acumulan en unos valores y otros valores tienen muy pocas observaciones. A este tipo de distribuciones se les llama distribuciones de potencia."
   ]
  },
  {
   "cell_type": "markdown",
   "metadata": {
    "id": "zwkQuchy_sle"
   },
   "source": [
    "En esta ocasión también utilizaremos la columna de Population, ya que podemos ver en el histograma que parece tener una distribución de potencia. Esta es la fórmula: \n",
    "\n",
    "![formula1.png](data:image/png;base64,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)"
   ]
  },
  {
   "cell_type": "code",
   "execution_count": 16,
   "metadata": {
    "colab": {
     "base_uri": "https://localhost:8080/",
     "height": 264
    },
    "executionInfo": {
     "elapsed": 627,
     "status": "ok",
     "timestamp": 1651519999702,
     "user": {
      "displayName": "Mikel Armendariz",
      "userId": "04878841620519662639"
     },
     "user_tz": -120
    },
    "id": "Wm_8OC06ozWg",
    "outputId": "b626c43c-e262-420f-98ca-bdf08fc51302"
   },
   "outputs": [
    {
     "data": {
      "image/png": "[encoded data removed]",
      "text/plain": [
       "<Figure size 640x480 with 1 Axes>"
      ]
     },
     "metadata": {},
     "output_type": "display_data"
    }
   ],
   "source": [
    "hist = plt.hist(data_df.Population, bins=50)"
   ]
  },
  {
   "cell_type": "markdown",
   "metadata": {
    "id": "iluZ3EB4APWa"
   },
   "source": [
    "Podemos ver como cambia la distribución cuando aplicamos el logaritmo a los valores. Ahora no tenemos tantos valores tan poco representados, ahora el rango es más pequeño y todos los valores están mejor agrupados."
   ]
  },
  {
   "cell_type": "code",
   "execution_count": 17,
   "metadata": {
    "colab": {
     "base_uri": "https://localhost:8080/",
     "height": 264
    },
    "executionInfo": {
     "elapsed": 585,
     "status": "ok",
     "timestamp": 1651520000285,
     "user": {
      "displayName": "Mikel Armendariz",
      "userId": "04878841620519662639"
     },
     "user_tz": -120
    },
    "id": "xKDBrtOjrLI5",
    "outputId": "ecf90046-4c9d-4e00-e10e-b614b9e2f563"
   },
   "outputs": [
    {
     "data": {
      "image/png": "[encoded data removed]",
      "text/plain": [
       "<Figure size 640x480 with 1 Axes>"
      ]
     },
     "metadata": {},
     "output_type": "display_data"
    }
   ],
   "source": [
    "hist = plt.hist(np.log(data_df.Population), bins=50)"
   ]
  },
  {
   "cell_type": "markdown",
   "metadata": {
    "id": "t1PcB4xzwSnL"
   },
   "source": [
    "### Estandarización"
   ]
  },
  {
   "cell_type": "markdown",
   "metadata": {
    "id": "6vpO5dhyAxD9"
   },
   "source": [
    "Representa el número de desviaciones típicas a las que se encuentra la media. Después de la transformación, la media de los valores estandarizados será de 0 y su desviación típica 1. Se recomienda usar este tipo de normalización cuando se tienen unos cuantos valores anómalos, pero estos no sean muy extremos.\n",
    "\n",
    "Vamos a normalizar la variable MedInc con el método de estandarización, ya que podemos ver que tenemos unos cuantos valores que se alejan de la media.\n"
   ]
  },
  {
   "cell_type": "markdown",
   "metadata": {
    "id": "ItwgMlVEFPxH"
   },
   "source": [
    "Esta es la fórmula de la estadandarización:\n",
    "\n",
    "![formula3.png](data:image/png;base64,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)"
   ]
  },
  {
   "cell_type": "code",
   "execution_count": 18,
   "metadata": {
    "colab": {
     "base_uri": "https://localhost:8080/",
     "height": 283
    },
    "executionInfo": {
     "elapsed": 901,
     "status": "ok",
     "timestamp": 1651521831138,
     "user": {
      "displayName": "Mikel Armendariz",
      "userId": "04878841620519662639"
     },
     "user_tz": -120
    },
    "id": "zFBIJhlqBGBD",
    "outputId": "b90050a3-0d76-472d-dcc5-dad6f2427a20"
   },
   "outputs": [
    {
     "name": "stdout",
     "output_type": "stream",
     "text": [
      "Avg: 3.8706710029069766\n"
     ]
    },
    {
     "data": {
      "image/png": "[encoded data removed]",
      "text/plain": [
       "<Figure size 640x480 with 1 Axes>"
      ]
     },
     "metadata": {},
     "output_type": "display_data"
    }
   ],
   "source": [
    "print('Avg:', data_df.MedInc.mean())\n",
    "hist = plt.hist(data_df.MedInc, bins=50)"
   ]
  },
  {
   "cell_type": "markdown",
   "metadata": {
    "id": "QLWRPLpOYKSU"
   },
   "source": [
    "Para poder entender mejor este método de normalización, primero vamos a transformar los valores manualmente."
   ]
  },
  {
   "cell_type": "code",
   "execution_count": 19,
   "metadata": {
    "id": "7tFOLZokyB1j"
   },
   "outputs": [],
   "source": [
    "data_df['MedIncManually'] = (data_df.MedInc-data_df.MedInc.mean())/data_df.MedInc.std()"
   ]
  },
  {
   "cell_type": "markdown",
   "metadata": {
    "id": "lnUwWhFLZ-FX"
   },
   "source": [
    "Ahora utilizaremos una función de scikit-learn para conseguir exactamente lo mismo."
   ]
  },
  {
   "cell_type": "code",
   "execution_count": 20,
   "metadata": {
    "id": "S9JoGWF8x8z-"
   },
   "outputs": [],
   "source": [
    "from sklearn.preprocessing import StandardScaler\n",
    "\n",
    "scaler = StandardScaler()\n",
    "data_df['MedIncStandardScaler'] = scaler.fit_transform(data_df[['MedInc']])"
   ]
  },
  {
   "cell_type": "markdown",
   "metadata": {
    "id": "Ryt_1M3NZ7Jq"
   },
   "source": [
    "De nuevo, podemos ver que hemos obtenido los mismos valores haciéndolo manualmente y con la función de scikit-learn. También podemos ver los nuevos valores obtenidos, que son más pequeños."
   ]
  },
  {
   "cell_type": "code",
   "execution_count": 21,
   "metadata": {
    "colab": {
     "base_uri": "https://localhost:8080/",
     "height": 206
    },
    "executionInfo": {
     "elapsed": 2,
     "status": "ok",
     "timestamp": 1651522147198,
     "user": {
      "displayName": "Mikel Armendariz",
      "userId": "04878841620519662639"
     },
     "user_tz": -120
    },
    "id": "LPD4uK0Hygwv",
    "outputId": "15d42f52-5360-4824-f758-44c7b9241e25"
   },
   "outputs": [
    {
     "data": {
      "text/html": [
       "<div>\n",
       "<style scoped>\n",
       "    .dataframe tbody tr th:only-of-type {\n",
       "        vertical-align: middle;\n",
       "    }\n",
       "\n",
       "    .dataframe tbody tr th {\n",
       "        vertical-align: top;\n",
       "    }\n",
       "\n",
       "    .dataframe thead th {\n",
       "        text-align: right;\n",
       "    }\n",
       "</style>\n",
       "<table border=\"1\" class=\"dataframe\">\n",
       "  <thead>\n",
       "    <tr style=\"text-align: right;\">\n",
       "      <th></th>\n",
       "      <th>MedInc</th>\n",
       "      <th>MedIncManually</th>\n",
       "      <th>MedIncStandardScaler</th>\n",
       "    </tr>\n",
       "  </thead>\n",
       "  <tbody>\n",
       "    <tr>\n",
       "      <th>0</th>\n",
       "      <td>8.3252</td>\n",
       "      <td>2.344709</td>\n",
       "      <td>2.344766</td>\n",
       "    </tr>\n",
       "    <tr>\n",
       "      <th>1</th>\n",
       "      <td>8.3014</td>\n",
       "      <td>2.332181</td>\n",
       "      <td>2.332238</td>\n",
       "    </tr>\n",
       "    <tr>\n",
       "      <th>2</th>\n",
       "      <td>7.2574</td>\n",
       "      <td>1.782656</td>\n",
       "      <td>1.782699</td>\n",
       "    </tr>\n",
       "    <tr>\n",
       "      <th>3</th>\n",
       "      <td>5.6431</td>\n",
       "      <td>0.932945</td>\n",
       "      <td>0.932968</td>\n",
       "    </tr>\n",
       "    <tr>\n",
       "      <th>4</th>\n",
       "      <td>3.8462</td>\n",
       "      <td>-0.012881</td>\n",
       "      <td>-0.012881</td>\n",
       "    </tr>\n",
       "  </tbody>\n",
       "</table>\n",
       "</div>"
      ],
      "text/plain": [
       "   MedInc  MedIncManually  MedIncStandardScaler\n",
       "0  8.3252        2.344709              2.344766\n",
       "1  8.3014        2.332181              2.332238\n",
       "2  7.2574        1.782656              1.782699\n",
       "3  5.6431        0.932945              0.932968\n",
       "4  3.8462       -0.012881             -0.012881"
      ]
     },
     "execution_count": 21,
     "metadata": {},
     "output_type": "execute_result"
    }
   ],
   "source": [
    "data_df[['MedInc', 'MedIncManually', 'MedIncStandardScaler']].head()"
   ]
  },
  {
   "cell_type": "markdown",
   "metadata": {
    "id": "2n44y_vqZebR"
   },
   "source": [
    "Eliminamos la columna que hemos calculado manualmente para no tener dos columnas exactamente iguales."
   ]
  },
  {
   "cell_type": "code",
   "execution_count": 22,
   "metadata": {
    "id": "8F8rV9MgymTX"
   },
   "outputs": [],
   "source": [
    "data_df = data_df.drop(['MedIncManually'], axis=1)"
   ]
  },
  {
   "cell_type": "markdown",
   "metadata": {
    "id": "cHfaHTyYZl_y"
   },
   "source": [
    "Podemos ver que los nuevos valores obtenidos tienen exactamente la misma distribución que los valores anteriores."
   ]
  },
  {
   "cell_type": "code",
   "execution_count": 23,
   "metadata": {
    "colab": {
     "base_uri": "https://localhost:8080/",
     "height": 264
    },
    "executionInfo": {
     "elapsed": 388,
     "status": "ok",
     "timestamp": 1651520000669,
     "user": {
      "displayName": "Mikel Armendariz",
      "userId": "04878841620519662639"
     },
     "user_tz": -120
    },
    "id": "6j2TSzVpuBIz",
    "outputId": "9e0b9b76-dc58-416b-e683-e01f1b4c1081"
   },
   "outputs": [
    {
     "data": {
      "image/png": "[encoded data removed]",
      "text/plain": [
       "<Figure size 640x480 with 1 Axes>"
      ]
     },
     "metadata": {},
     "output_type": "display_data"
    }
   ],
   "source": [
    "hist = plt.hist(data_df.MedIncStandardScaler, bins=50)"
   ]
  }
 ],
 "metadata": {
  "colab": {
   "authorship_tag": "ABX9TyMwPchkMiU1Ty13FlR+Kt42",
   "collapsed_sections": [],
   "name": "normalizacion.ipynb",
   "provenance": []
  },
  "kernelspec": {
   "display_name": "Python 3",
   "language": "python",
   "name": "python3"
  },
  "language_info": {
   "codemirror_mode": {
    "name": "ipython",
    "version": 3
   },
   "file_extension": ".py",
   "mimetype": "text/x-python",
   "name": "python",
   "nbconvert_exporter": "python",
   "pygments_lexer": "ipython3",
   "version": "3.11.5"
  }
 },
 "nbformat": 4,
 "nbformat_minor": 1
}
