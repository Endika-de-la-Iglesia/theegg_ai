{
 "cells": [
  {
   "cell_type": "code",
   "execution_count": 36,
   "metadata": {
    "id": "CSciM9y_iSbm"
   },
   "outputs": [],
   "source": [
    "import pandas as pd\n",
    "import numpy as np"
   ]
  },
  {
   "cell_type": "code",
   "execution_count": 37,
   "metadata": {
    "id": "rMjTJx8qiVh5"
   },
   "outputs": [],
   "source": [
    "path = \"poblacion_global_2020.csv\"\n",
    "path2 = \"paises.csv\""
   ]
  },
  {
   "cell_type": "markdown",
   "metadata": {
    "id": "4eh5I2Hl47dd"
   },
   "source": [
    "# Ejercicio\n",
    "\n",
    "Examina detenidamente el siguiente dataset y responde las siguientes preguntas:\n",
    "\n",
    "1. ¿Porqué cumple con las condiciones de Tidy Data?\n",
    "2. ¿Cuál es el data point principal y cual es la meta data?\n",
    "3. Si quisieramos saber más sobre los niveles educativos globales ¿Qué otras características necesitariamos para este data set?\n",
    "4. ¿Qué tipo de análisis harías con este data set?"
   ]
  },
  {
   "cell_type": "markdown",
   "metadata": {},
   "source": [
    "1. Cumple con las condiciones de Tidy Data porque los datos se encuentran ordenados de tal manera que cada fila de la tabla es una observación y cada columna representa una característica de esa observación.\n",
    "2. El data point principal es el país y el metadata engloba cada uno de los datos adicionales sobre dicho país.\n",
    "3. El conjunto de datos no incluye información sobre niveles educativos. Para obtener información sobre niveles educativos globales, se necesitarían datos adicionales, incluyendo, por ejemplo, tasas de alfabetización, niveles educativos alcanzados por la población, inversión en educación, etc.\n",
    "4. Se pueden realizar varios análisis con este conjunto de datos:\n",
    "\n",
    "Comparar la población y densidad de diferentes países.\n",
    "Analizar la relación entre la tasa de migración y la densidad de población.\n",
    "Explorar la relación entre la tasa de fertilidad y la edad promedio.\n",
    "Comparar la población urbana en diferentes países.\n",
    "Identificar patrones geográficos relacionados con el territorio (población urbana) y la población total de cada país."
   ]
  },
  {
   "cell_type": "code",
   "execution_count": 38,
   "metadata": {
    "colab": {
     "base_uri": "https://localhost:8080/",
     "height": 206
    },
    "id": "zIVDU1LhlGlf",
    "outputId": "d5d8dc73-d7c1-436a-9ac6-8550cbbedb6f"
   },
   "outputs": [
    {
     "name": "stdout",
     "output_type": "stream",
     "text": [
      "             Pais  Poblacion (2020)  Densidad  Territorio (Km²)  \\\n",
      "0           China        1440297825       153           9388211   \n",
      "1           India        1382345085       464           2973190   \n",
      "2  Estados Unidos         331341050        36           9147420   \n",
      "3       Indonesia         274021604       151           1811570   \n",
      "4        Pakistán         221612785       287            770880   \n",
      "\n",
      "   Tasa Migracion Tasa Fertilidad Edad Promedio % Poblacion Urbaba  \n",
      "0       -348399.0             1.7            38               61 %  \n",
      "1       -532687.0             2.2            28               35 %  \n",
      "2        954806.0             1.8            38               83 %  \n",
      "3        -98955.0             2.3            30               56 %  \n",
      "4       -233379.0             3.6            23               35 %  \n",
      "       nombre         name          nom  iso2  iso3  phone_code continente\n",
      "0  Afganistán  Afghanistan  Afghanistan    AF   AFG          93       Asia\n",
      "1     Albania      Albania      Albanie    AL   ALB         355     Europa\n",
      "2    Alemania      Germany    Allemagne    DE   DEU          49     Europa\n",
      "3     Algeria      Algeria      Algérie    DZ   DZA         213     África\n",
      "4     Andorra      Andorra      Andorra    AD   AND         376     Europa\n"
     ]
    }
   ],
   "source": [
    "df = pd.read_csv(path)\n",
    "df2 = pd.read_csv(path2)\n",
    "\n",
    "print(df.head())\n",
    "print(df2.head())"
   ]
  },
  {
   "cell_type": "markdown",
   "metadata": {
    "id": "icPpmAcd5BCY"
   },
   "source": [
    "# Ejercicios:\n",
    "\n",
    "Manipula el dataset, de manera que respondas las siguientes preguntas:\n",
    "\n",
    "1. ¿Cual es el promedio de Tasa de Fertilidad global?\n",
    "2. ¿Que país tiene la Edad Promedio más alta y cual la más baja?\n",
    "3. Agrupa los países por continente y obtén la mediana de la población urbana\n",
    "4. ¿Qué otro de cálculo de interés (usando estas variables) crees pertinente para comparar la calidad de vida a nivel global? ¿Porqué?"
   ]
  },
  {
   "cell_type": "markdown",
   "metadata": {},
   "source": [
    "1. ¿Cual es el promedio de Tasa de Fertilidad global?"
   ]
  },
  {
   "cell_type": "code",
   "execution_count": 39,
   "metadata": {},
   "outputs": [
    {
     "name": "stdout",
     "output_type": "stream",
     "text": [
      "El promedio de Tasa de Fertilidad global es 2.6930348258706465\n"
     ]
    }
   ],
   "source": [
    "#Transformar la columna tasa de fertilidad a numérico, ya que hay algún valor de tipo string en alguna de las filas. Errors coerce transforma los strings a NaN\n",
    "df[\"Tasa Fertilidad\"] = pd.to_numeric(df[\"Tasa Fertilidad\"], errors=\"coerce\")\n",
    "\n",
    "fertility_mean = df[\"Tasa Fertilidad\"].mean()\n",
    "print(f\"El promedio de Tasa de Fertilidad global es {fertility_mean}\")"
   ]
  },
  {
   "cell_type": "markdown",
   "metadata": {},
   "source": [
    "2. ¿Que país tiene la Edad Promedio más alta y cual la más baja?"
   ]
  },
  {
   "cell_type": "code",
   "execution_count": 40,
   "metadata": {},
   "outputs": [
    {
     "name": "stdout",
     "output_type": "stream",
     "text": [
      "Japan es el país que tiene la Edad Promedio más alta con un valor de 48.0\n",
      "Niger es el país que tiene la Edad Promedio más baja con un valor de 15.0\n"
     ]
    }
   ],
   "source": [
    "#Corregir error en el encabezado de una de las columnas\n",
    "df.rename(columns={\"% Poblacion Urbaba\": \"% Poblacion Urbana\"}, inplace=True)\n",
    "# Convertir todas las columnas a numérico excepto la de país, que debe ser categórica\n",
    "columns_to_convert = df.columns.difference([\"Pais\", \"% Poblacion Urbana\"])\n",
    "df[columns_to_convert] = df[columns_to_convert].apply(pd.to_numeric, errors=\"coerce\")\n",
    "\n",
    "max_age = df[\"Edad Promedio\"].max()\n",
    "min_age = df[\"Edad Promedio\"].min()\n",
    "max_index_age = df[\"Edad Promedio\"].idxmax()\n",
    "min_index_age = df[\"Edad Promedio\"].idxmin()\n",
    "max_age_country = df.loc[max_index_age, \"Pais\"]\n",
    "min_age_country = df.loc[min_index_age, \"Pais\"]\n",
    "print(f\"{max_age_country} es el país que tiene la Edad Promedio más alta con un valor de {max_age}\")\n",
    "print(f\"{min_age_country} es el país que tiene la Edad Promedio más baja con un valor de {min_age}\")\n"
   ]
  },
  {
   "cell_type": "markdown",
   "metadata": {},
   "source": [
    "3. Agrupa los países por continente y obtén la mediana de la población urbana\n"
   ]
  },
  {
   "cell_type": "code",
   "execution_count": 43,
   "metadata": {},
   "outputs": [
    {
     "name": "stdout",
     "output_type": "stream",
     "text": [
      "África, 47.0 % población urbana (mediana)\n",
      "Asia, 58.0 % población urbana (mediana)\n",
      "Australia y Oceanía, 61.5 % población urbana (mediana)\n",
      "Europa, 71.0 % población urbana (mediana)\n",
      "América, 76.0 % población urbana (mediana)\n",
      "               Pais  Poblacion (2020)  Densidad  Territorio (Km²)  \\\n",
      "107           Libia           6887247         4           1759540   \n",
      "133         Eritrea           3554797        35            101000   \n",
      "39        Marruecos          36985624        83            446300   \n",
      "127      Mauritania           4669775         5           1030700   \n",
      "43           Angola          33032075        26           1246700   \n",
      "..              ...               ...       ...               ...   \n",
      "65        Guatemala          17971382       167            107160   \n",
      "66          Ecuador          17688599        71            248360   \n",
      "2    Estados Unidos         331341050        36           9147420   \n",
      "189     Santa Lucia            183774       301               610   \n",
      "179       Martinica            375213       354              1060   \n",
      "\n",
      "     Tasa Migracion  Tasa Fertilidad  Edad Promedio  % Poblacion Urbana  \\\n",
      "107         -1999.0              2.3           29.0                78.0   \n",
      "133        -39858.0              4.1           19.0                63.0   \n",
      "39         -51419.0              2.4           30.0                64.0   \n",
      "127          5000.0              4.6           20.0                57.0   \n",
      "43           6413.0              5.6           17.0                67.0   \n",
      "..              ...              ...            ...                 ...   \n",
      "65          -9215.0              2.9           23.0                52.0   \n",
      "66          36400.0              2.4           28.0                63.0   \n",
      "2          954806.0              1.8           38.0                83.0   \n",
      "189             0.0              1.4           34.0                19.0   \n",
      "179          -960.0              1.9           47.0                92.0   \n",
      "\n",
      "     Tasa Migracion Ajustada continente  % Poblacion Urbana_median  \n",
      "107                -0.000290     África                       47.0  \n",
      "133                -0.011212     África                       47.0  \n",
      "39                 -0.001390     África                       47.0  \n",
      "127                 0.001071     África                       47.0  \n",
      "43                  0.000194     África                       47.0  \n",
      "..                       ...        ...                        ...  \n",
      "65                 -0.000513    América                       76.0  \n",
      "66                  0.002058    América                       76.0  \n",
      "2                   0.002882    América                       76.0  \n",
      "189                 0.000000    América                       76.0  \n",
      "179                -0.002559    América                       76.0  \n",
      "\n",
      "[215 rows x 11 columns]\n"
     ]
    }
   ],
   "source": [
    "\n",
    "# Generar un tercer dataframe con la columna de continentes obtenida de df2\n",
    "df3 = pd.merge(df, df2[[\"nombre\", \"continente\"]], how=\"left\", left_on=\"Pais\", right_on=\"nombre\")\n",
    "df3 = df3.drop(\"nombre\", axis=1)\n",
    "# Sigue habiendo paises que tienen NaN como continente. En esos casos voy a meter manualmente los valores para tener todos los datos completos\n",
    "df3_conti_nan = df3[df3[\"continente\"].isna()]\n",
    "df3_conti_nan.to_csv(\"faltan_continentes.csv\", index=False)\n",
    "\n",
    "# Extender el diccionario llamado «continent_mapping» con los países para los que no tengo la info del continente\n",
    "continent_mapping = {\n",
    "    \"Estados Unidos\": \"América\",\n",
    "    \"Mexico\": \"América\",\n",
    "    \"Japan\": \"Asia\",\n",
    "    \"Etiopia\": \"África\",\n",
    "    \"DR Congo\": \"África\",\n",
    "    \"Iran\": \"Asia\",\n",
    "    \"Myanmar\": \"Asia\",\n",
    "    \"Argelia\": \"África\",\n",
    "    \"Sudan\": \"África\",\n",
    "    \"Iraq\": \"Asia\",\n",
    "    \"Canada\": \"América\",\n",
    "    \"Uzbekistan\": \"Asia\",\n",
    "    \"Taiwan\": \"Asia\",\n",
    "    \"Sri Lanka\": \"Asia\",\n",
    "    \"Rumania\": \"Europa\",\n",
    "    \"Paises Bajos\": \"Europa\",\n",
    "    \"Cambodia\": \"Asia\",\n",
    "    \"Zimbabwe\": \"África\",\n",
    "    \"Rwanda\": \"África\",\n",
    "    \"Benin\": \"África\",\n",
    "    \"Haiti\": \"África\",\n",
    "    \"Sudán del Sur\": \"África\",\n",
    "    \"Azerbaiyan\": \"Asia\",\n",
    "    \"Tajikistan\": \"Asia\",\n",
    "    \"Papua Nueva Guinea\": \"Australia y Oceanía\",\n",
    "    \"Hong Kong\": \"Asia\",\n",
    "    \"Libano\": \"Asia\",\n",
    "    \"Kirgistan\": \"Asia\",\n",
    "    \"Turkmenistan\": \"Asia\",\n",
    "    \"Singapore\": \"Asia\",\n",
    "    \"Noreuga\": \"Europa\",\n",
    "    \"Oman\": \"Asia\",\n",
    "    \"Panama\": \"América\",\n",
    "    \"Botswana\": \"África\",\n",
    "    \"Gabon\": \"África\",\n",
    "    \"Lesotho\": \"África\",\n",
    "    \"Macedonia del Norte\": \"Europa\",\n",
    "    \"Bahrain\": \"Asia\",\n",
    "    \"Triniad y Tobajo\": \"América\",\n",
    "    \"Timor-Leste\": \"Asia\",\n",
    "    \"Eswatini\": \"África\",\n",
    "    \"Djibouti\": \"África\",\n",
    "    \"Fiji\": \"Australia y Oceanía\",\n",
    "    \"Réunion\": \"África\",\n",
    "    \"Comoros\": \"África\",\n",
    "    \"Bhutan\": \"Asia\",\n",
    "    \"Suriname\": \"América\",\n",
    "    \"Maldivas\": \"Asia\",\n",
    "    \"Brunei\": \"Asia\",\n",
    "    \"Guadeloupe\": \"América\",\n",
    "    \"Guyana Francesa\": \"América\",\n",
    "    \"San Tomé y Principe\": \"África\",\n",
    "    \"Santa Lucia\": \"América\",\n",
    "    \"Islas Canal\": \"Europa\",\n",
    "    \"Curaçao\": \"América\",\n",
    "    \"St. Vincent y Grenadinas\": \"América\",\n",
    "    \"Islas Virgenes\": \"América\",\n",
    "    \"Islas Cayman\": \"América\",\n",
    "    \"Bermuda\": \"América\",\n",
    "    \"Islas Mariana del Norte\": \"Australia y Oceanía\",\n",
    "    \"Saint Kitts y Nevis\": \"América\",\n",
    "    \"San Martín\": \"América\",\n",
    "    \"Monaco\": \"Europa\",\n",
    "}\n",
    "\n",
    "df3[\"continente\"] = df3[\"continente\"].fillna(df3[\"Pais\"].map(continent_mapping))\n",
    "# Transformar los valures de porcentajes a número, están almacenados como strings\n",
    "df3[\"% Poblacion Urbana\"] = pd.to_numeric(df3[\"% Poblacion Urbana\"].str.rstrip(\"%\"), errors=\"coerce\")\n",
    "\n",
    "\n",
    "grouped_df = df3.groupby(\"continente\")\n",
    "mediana = grouped_df[\"% Poblacion Urbana\"].median()\n",
    "sorted_df = mediana.sort_values(ascending=True)\n",
    "\n",
    "for continent, percentage in sorted_df.reset_index().iterrows():\n",
    "    print(f\"{percentage['continente']}, {percentage['% Poblacion Urbana']} % población urbana (mediana)\")\n",
    "\n",
    "#Añadir la columna % Poblacion Urbana_median \n",
    "merged_df = pd.merge(df3, sorted_df, how=\"left\", on=\"continente\", suffixes=(\"\", \"_median\"))\n",
    "#Ordenar el dataframe por %% Poblacion Urbana (mediana) en orden ascendente\n",
    "sorted_merged_df = merged_df.sort_values(by=\"% Poblacion Urbana_median\", ascending=True)\n",
    "print(sorted_merged_df)"
   ]
  },
  {
   "cell_type": "markdown",
   "metadata": {},
   "source": [
    "4. ¿Qué otro de cálculo de interés (usando estas variables) crees pertinente para comparar la calidad de vida a nivel global? ¿Por qué?\n",
    "Considero que otro cálculo de interés sería determinar la tasa de Migración ajustada (Tasa Migración/Población) para saber el «porcentaje» (tanto por 1 en este caso) de gente que decide migrar hacia o desde esos paises. Cuanto más negativo sea el valor implicará una mayor emigración y cuanto más positivo más inmigración habrá. Si bien es cierto que puede haber otros motivos que ocasionen los flujos de migrantes, en este caso sería posible establecer que una baja calidad de vida origina mayor emigración para huir de la situación, mientras que los paises con una gran calidad de vida tendrán más inmigrantes. "
   ]
  },
  {
   "cell_type": "code",
   "execution_count": 45,
   "metadata": {},
   "outputs": [
    {
     "name": "stdout",
     "output_type": "stream",
     "text": [
      "Top 5 paises con los valores más positivos para Tasa Migracion Ajustada (mejor calidad de vida):\n",
      "           Pais  Poblacion (2020)  Densidad  Territorio (Km²)  Tasa Migracion  \\\n",
      "151     Bahrain           1711057      2239               760         47800.0   \n",
      "172    Maldivas            542151      1802               300         11370.0   \n",
      "119        Oman           5128058        16            309500         87400.0   \n",
      "168  Luxemburgo            627704       242              2590          9741.0   \n",
      "138       Qatar           2889284       248             11610         40000.0   \n",
      "\n",
      "     Tasa Fertilidad  Edad Promedio % Poblacion Urbana  \\\n",
      "151              2.0           32.0               89 %   \n",
      "172              1.9           30.0               35 %   \n",
      "119              2.9           31.0               87 %   \n",
      "168              1.5           40.0               88 %   \n",
      "138              1.9           32.0               96 %   \n",
      "\n",
      "     Tasa Migracion Ajustada  \n",
      "151                 0.027936  \n",
      "172                 0.020972  \n",
      "119                 0.017043  \n",
      "168                 0.015518  \n",
      "138                 0.013844  \n",
      "Top 5 paises con los valores más negativos para Tasa Migracion Ajustada (peor calidad de vida):\n",
      "              Pais  Poblacion (2020)  Densidad  Territorio (Km²)  \\\n",
      "140    Puerto Rico           2846860       323              8870   \n",
      "67           Siria          17571053        95            183630   \n",
      "49       Venezuela          28421581        32            882050   \n",
      "83   Sudán del Sur          11216250        18            610952   \n",
      "187          Samoa            198643        70              2830   \n",
      "\n",
      "     Tasa Migracion  Tasa Fertilidad  Edad Promedio % Poblacion Urbana  \\\n",
      "140        -97986.0              1.2           44.0               N.A.   \n",
      "67        -427391.0              2.8           26.0               60 %   \n",
      "49        -653249.0              2.3           30.0               N.A.   \n",
      "83        -174200.0              4.7           19.0               25 %   \n",
      "187         -2803.0              3.9           22.0               18 %   \n",
      "\n",
      "     Tasa Migracion Ajustada  \n",
      "140                -0.034419  \n",
      "67                 -0.024324  \n",
      "49                 -0.022984  \n",
      "83                 -0.015531  \n",
      "187                -0.014111  \n"
     ]
    }
   ],
   "source": [
    "df[\"Tasa Migracion Ajustada\"] = df[\"Tasa Migracion\"] / df[\"Poblacion (2020)\"]\n",
    "\n",
    "# Top 5 paises con los valores más positivos\n",
    "top_positive = df.nlargest(5, \"Tasa Migracion Ajustada\")\n",
    "\n",
    "# Top 5 paises con los valores más negativos\n",
    "top_negative = df.nsmallest(5, \"Tasa Migracion Ajustada\")\n",
    "\n",
    "print(\"Top 5 paises con los valores más positivos para Tasa Migracion Ajustada (mejor calidad de vida):\")\n",
    "print(top_positive)\n",
    "\n",
    "print(\"Top 5 paises con los valores más negativos para Tasa Migracion Ajustada (peor calidad de vida):\")\n",
    "print(top_negative)"
   ]
  }
 ],
 "metadata": {
  "colab": {
   "name": "DatoInteligente_Tarea.ipynb",
   "provenance": []
  },
  "kernelspec": {
   "display_name": "Python 3",
   "language": "python",
   "name": "python3"
  },
  "language_info": {
   "codemirror_mode": {
    "name": "ipython",
    "version": 3
   },
   "file_extension": ".py",
   "mimetype": "text/x-python",
   "name": "python",
   "nbconvert_exporter": "python",
   "pygments_lexer": "ipython3",
   "version": "3.11.5"
  }
 },
 "nbformat": 4,
 "nbformat_minor": 1
}
